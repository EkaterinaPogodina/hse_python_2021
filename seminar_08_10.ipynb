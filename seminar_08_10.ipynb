{
 "cells": [
  {
   "cell_type": "markdown",
   "metadata": {},
   "source": [
    "## Семинар 06.10 - веб, веб-сервисы и веб-фреймворки"
   ]
  },
  {
   "cell_type": "code",
   "execution_count": 1,
   "metadata": {},
   "outputs": [],
   "source": [
    "### Веб-приложение - это что????"
   ]
  },
  {
   "cell_type": "markdown",
   "metadata": {},
   "source": [
    "Веб-приложение:\n",
    "    - клиент-серверное приложение\n",
    "    - сервером является веб-сервер"
   ]
  },
  {
   "cell_type": "markdown",
   "metadata": {},
   "source": [
    "Клиент-серверное приложение:\n",
    "    \n",
    "    - пользователь работает с клиентской частью приложения (скрипты, который исполняются в браузере)\n",
    "    - клиентское приложение отправляет запросы (взаимодействует) с некоторым сервером\n",
    "    - сервер обрабатывает логику запроса и выдает ответ клиентской части"
   ]
  },
  {
   "cell_type": "markdown",
   "metadata": {},
   "source": [
    "Что значит веб-сервер:\n",
    "\n",
    "    - вы могли заметить некоторую магию в предложении 'клиентское приложение отправляет запросы' \n",
    "    что значит отправляет?\n",
    "    \n",
    "    - для отправки используется специальный механизм (протокол) отправки данных \n",
    "    https://ru.wikipedia.org/wiki/TCP/IP (прикладной уровень отправки протокол http)"
   ]
  },
  {
   "cell_type": "markdown",
   "metadata": {},
   "source": [
    "То есть, когда вы пишете свой веб-сервис, клиент шлет запросы в формате\n",
    "\n",
    "GET http://your_url.ru/your_path \n",
    "\n",
    "с помощью спецаильных библиотек происходит реализация отправки по протоколу TCP/IP и ваш сервер получает сообщение"
   ]
  },
  {
   "cell_type": "markdown",
   "metadata": {},
   "source": [
    "###  Сегодня мы напишем такой веб-сервер, клиентом в дальнейшем будет выступать ваше приложение"
   ]
  },
  {
   "cell_type": "code",
   "execution_count": 3,
   "metadata": {},
   "outputs": [],
   "source": [
    "# https://flask-russian-docs.readthedocs.io/ru/latest/quickstart.html \n",
    "\n",
    "# официальная дока https://flask.palletsprojects.com/en/2.0.x/"
   ]
  },
  {
   "cell_type": "code",
   "execution_count": 5,
   "metadata": {},
   "outputs": [],
   "source": [
    "# Устанавливаем flask\n"
   ]
  },
  {
   "cell_type": "code",
   "execution_count": 6,
   "metadata": {},
   "outputs": [
    {
     "name": "stdout",
     "output_type": "stream",
     "text": [
      "Collecting flask\n",
      "  Downloading Flask-2.0.2-py3-none-any.whl (95 kB)\n",
      "\u001b[K     |████████████████████████████████| 95 kB 1.4 MB/s \n",
      "\u001b[?25hCollecting Jinja2>=3.0\n",
      "  Downloading Jinja2-3.0.2-py3-none-any.whl (133 kB)\n",
      "\u001b[K     |████████████████████████████████| 133 kB 3.2 MB/s \n",
      "\u001b[?25hCollecting Werkzeug>=2.0\n",
      "  Downloading Werkzeug-2.0.2-py3-none-any.whl (288 kB)\n",
      "\u001b[K     |████████████████████████████████| 288 kB 8.2 MB/s \n",
      "\u001b[?25hCollecting click>=7.1.2\n",
      "  Downloading click-8.0.1-py3-none-any.whl (97 kB)\n",
      "\u001b[K     |████████████████████████████████| 97 kB 8.5 MB/s \n",
      "\u001b[?25hCollecting itsdangerous>=2.0\n",
      "  Downloading itsdangerous-2.0.1-py3-none-any.whl (18 kB)\n",
      "Collecting MarkupSafe>=2.0\n",
      "  Downloading MarkupSafe-2.0.1-cp39-cp39-macosx_10_9_x86_64.whl (13 kB)\n",
      "Installing collected packages: MarkupSafe, Jinja2, Werkzeug, click, itsdangerous, flask\n",
      "Successfully installed Jinja2-3.0.2 MarkupSafe-2.0.1 Werkzeug-2.0.2 click-8.0.1 flask-2.0.2 itsdangerous-2.0.1\n"
     ]
    }
   ],
   "source": [
    "!pip3 install flask"
   ]
  },
  {
   "cell_type": "code",
   "execution_count": 37,
   "metadata": {},
   "outputs": [
    {
     "name": "stdout",
     "output_type": "stream",
     "text": [
      " * Serving Flask app '__main__' (lazy loading)\n",
      " * Environment: production\n",
      "\u001b[31m   WARNING: This is a development server. Do not use it in a production deployment.\u001b[0m\n",
      "\u001b[2m   Use a production WSGI server instead.\u001b[0m\n",
      " * Debug mode: on\n"
     ]
    },
    {
     "name": "stderr",
     "output_type": "stream",
     "text": [
      " * Running on all addresses.\n",
      "   WARNING: This is a development server. Do not use it in a production deployment.\n",
      " * Running on http://192.168.1.100:8000/ (Press CTRL+C to quit)\n",
      " * Restarting with stat\n"
     ]
    },
    {
     "ename": "SystemExit",
     "evalue": "1",
     "output_type": "error",
     "traceback": [
      "An exception has occurred, use %tb to see the full traceback.\n",
      "\u001b[0;31mSystemExit\u001b[0m\u001b[0;31m:\u001b[0m 1\n"
     ]
    },
    {
     "name": "stderr",
     "output_type": "stream",
     "text": [
      "/usr/local/lib/python3.9/site-packages/IPython/core/interactiveshell.py:3426: UserWarning: To exit: use 'exit', 'quit', or Ctrl-D.\n",
      "  warn(\"To exit: use 'exit', 'quit', or Ctrl-D.\", stacklevel=1)\n"
     ]
    }
   ],
   "source": [
    "from flask import Flask\n",
    "\n",
    "app = Flask(__name__)\n",
    "\n",
    "@app.route(\"/\")\n",
    "def hello_world():\n",
    "    return \"<p>Hello, World!</p>\"\n",
    "\n",
    "app.run(host='0.0.0.0', port='8000', debug=True)"
   ]
  },
  {
   "cell_type": "code",
   "execution_count": 39,
   "metadata": {},
   "outputs": [
    {
     "name": "stdout",
     "output_type": "stream",
     "text": [
      "^C\n"
     ]
    }
   ],
   "source": [
    "!curl http://192.168.1.100:8000"
   ]
  },
  {
   "cell_type": "code",
   "execution_count": null,
   "metadata": {},
   "outputs": [],
   "source": [
    "#Пишем свой веб-сервис:\n",
    "    \n",
    "from flask import Flask, request\n",
    "\n",
    "app = Flask(__name__)\n",
    "\n",
    "\n",
    "@app.route(\"/api/reserve\", methods=['POST'])\n",
    "def reserve():\n",
    "    if not request.form.get('username'):\n",
    "        return 'authorization error'\n",
    "    if not request.form.get('item'):\n",
    "        return 'item was not provided'\n",
    "    return 'new stats here'\n",
    "\n",
    "\n",
    "@app.route(\"/api/stats\", methods=['GET'])\n",
    "def stats():\n",
    "    return 'your stats'\n",
    "\n",
    "\n",
    "if __name__ == '__main__':\n",
    "    app.run(host='0.0.0.0', port='8000', debug=True)\n"
   ]
  },
  {
   "cell_type": "code",
   "execution_count": 27,
   "metadata": {},
   "outputs": [
    {
     "name": "stdout",
     "output_type": "stream",
     "text": [
      "item was not provided"
     ]
    }
   ],
   "source": [
    "!curl -X POST http://192.168.1.100:8000/api/reserve -d 'username=kate'"
   ]
  },
  {
   "cell_type": "code",
   "execution_count": 1,
   "metadata": {},
   "outputs": [
    {
     "data": {
      "text/plain": [
       "'new stats here'"
      ]
     },
     "execution_count": 1,
     "metadata": {},
     "output_type": "execute_result"
    }
   ],
   "source": [
    "import requests\n",
    "result = requests.post('http://192.168.1.100:8000/api/reserve', data={'username': 'kate', 'item': 1})\n",
    "result.text"
   ]
  },
  {
   "cell_type": "markdown",
   "metadata": {},
   "source": [
    "### Задание 10 (последнее на оценку, ура...) - 10 баллов"
   ]
  },
  {
   "cell_type": "markdown",
   "metadata": {},
   "source": [
    "- установить flask \n",
    "- создать папку server в своем проекте, создать файл server.py\n",
    "- файл server.py должен содержать 2 роута: получение статистики бронирований, бронирование товара\n",
    "- статистика бронирования должна возвращать:\n",
    "    - (информацию о том кто забронировал, какие товары и в каком количестве)\n",
    "- бронирование товара должно ожидать на вход в теле запроса (request.form) имя пользователя и товар, который он бронирует:\n",
    "    - вы должны считать файл с данными \"вашего склада\" и уменьшить количество товара, которое бронируете\n",
    "    - в тот же или другой файл нужно положить информацию о брони пользователя (в любом удобном для вас формате)\n",
    "    - примечание: создайте новые файлы в папке server (сейчас кусок вашего qt-приложения живет отдельной жизнью)\n",
    "    - примечание 2: в реальной жизни, разные люди могут бронировать товар в одно время, в этом случае вы будете держать открытым на чтение один и тот же файл - что может привести к некорректной работе вашего сервера, правильное решение - использовать механизм блокировки файла (или использовать не файлы, а такое страшное слово как базы данных), но сейчас мы этим пренебрегаем"
   ]
  },
  {
   "cell_type": "code",
   "execution_count": 3,
   "metadata": {},
   "outputs": [
    {
     "name": "stdout",
     "output_type": "stream",
     "text": [
      "{\n",
      "  \"user\": {\n",
      "    \"items\": [\n",
      "      {\n",
      "        \"count\": 5, \n",
      "        \"item_id\": \"1\"\n",
      "      }, \n",
      "      {\n",
      "        \"count\": 5, \n",
      "        \"item_id\": \"2\"\n",
      "      }\n",
      "    ], \n",
      "    \"name\": \"kate\"\n",
      "  }\n",
      "}\n"
     ]
    }
   ],
   "source": [
    "# stats_example\n",
    "!curl http://192.168.1.100:8000/api/stats"
   ]
  },
  {
   "cell_type": "code",
   "execution_count": null,
   "metadata": {},
   "outputs": [],
   "source": []
  }
 ],
 "metadata": {
  "kernelspec": {
   "display_name": "Python 3",
   "language": "python",
   "name": "python3"
  },
  "language_info": {
   "codemirror_mode": {
    "name": "ipython",
    "version": 3
   },
   "file_extension": ".py",
   "mimetype": "text/x-python",
   "name": "python",
   "nbconvert_exporter": "python",
   "pygments_lexer": "ipython3",
   "version": "3.9.0"
  }
 },
 "nbformat": 4,
 "nbformat_minor": 2
}
