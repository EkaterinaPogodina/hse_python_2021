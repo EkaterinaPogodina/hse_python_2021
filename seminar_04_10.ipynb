{
 "cells": [
  {
   "cell_type": "markdown",
   "metadata": {},
   "source": [
    "## Семинар 06.10 - пишем тесты к своему проекту"
   ]
  },
  {
   "cell_type": "code",
   "execution_count": null,
   "metadata": {},
   "outputs": [],
   "source": [
    "#!pip3 install pytest "
   ]
  },
  {
   "cell_type": "code",
   "execution_count": null,
   "metadata": {},
   "outputs": [],
   "source": [
    "# Структура файла с тестами\n",
    "\n",
    "# выполняется в начале выполнения каждого теста\n",
    "def setup_function(function):\n",
    "    print('')\n",
    "    print('setup function {}'.format(function))\n",
    "    print('')\n",
    "\n",
    "\n",
    "# выполняется в конце выполнения каждого теста\n",
    "def teardown_function(function):\n",
    "    print('')\n",
    "    print('teardown function {}'.format(function))\n",
    "    print('')\n",
    "\n",
    "\n",
    "# ваш тест, название обязательно должно начинаться c test_* (иначе pytest не поймет что это тест)\n",
    "def test_numbers_3_4():\n",
    "    assert 3 != 4\n",
    "\n",
    "\n",
    "def test_list_size():\n",
    "    assert 1 == len([1])"
   ]
  },
  {
   "cell_type": "markdown",
   "metadata": {},
   "source": [
    "# Запуск тестов в папке с тестами через pycharm:\n",
    "\n",
    "```python3 -m pytest```\n",
    "\n",
    "либо в terminal в Pycharm:\n",
    "\n",
    "![title](test.png)"
   ]
  },
  {
   "cell_type": "markdown",
   "metadata": {},
   "source": [
    "если вы работаете не в Pycharm:\n",
    "    \n",
    "- открываете terminal/ cmd.exe\n",
    "- с помощью команды cd (change directory) переходите в нужную папку с тестами вашего проекта (сориентироваться где вы находитесь поможет команда pwd)\n",
    "- запускаете ```python3 -m pytest```\n",
    "\n",
    "у меня это выглядит так:\n",
    "![title](test1.png)"
   ]
  },
  {
   "cell_type": "markdown",
   "metadata": {},
   "source": [
    "## Работа с фикстурами"
   ]
  },
  {
   "cell_type": "code",
   "execution_count": 9,
   "metadata": {},
   "outputs": [],
   "source": [
    "import pytest\n",
    "\n",
    "# Мы хотим создать объект, которым будем пользоваться в каждом тесте\n",
    "@pytest.fixture\n",
    "def data():\n",
    "    return {1: 2, 3: 4}\n",
    "\n",
    "\n",
    "def test_data_values(data):\n",
    "    assert data[1] != data[3]\n",
    "\n",
    "\n",
    "def test_len_data(data):\n",
    "    assert 2 == len(data)"
   ]
  },
  {
   "cell_type": "markdown",
   "metadata": {},
   "source": [
    " #- Поговорить про import-ы"
   ]
  },
  {
   "cell_type": "markdown",
   "metadata": {},
   "source": [
    "##  Тестируем собственное приложение"
   ]
  },
  {
   "cell_type": "markdown",
   "metadata": {},
   "source": [
    "### Как написать тест? Что мы хотим проверять?\n",
    "\n",
    "Давайте вспомним основной сценарий:\n",
    "    - у нас есть одно приложение с окном, которое мы запускаем (создадим объект-фикстуру app)\n",
    "    - у нас есть начальные данные приложения (это тоже может быть фикстура)\n",
    "    - мы хотим проверить, что когда мы нажимаем на кнопку, происходит ожидаемое действие (уменьшается количество товаров, меняется текст)\n",
    "    - мы хотим проверить, что не выходим за границы некоторых значений"
   ]
  },
  {
   "cell_type": "markdown",
   "metadata": {},
   "source": [
    "Хорошие тесты - это когда под каждую функциональность написан тест (если функциональность подразумевает различные ситуации, то по тесту для каждой ситуации)"
   ]
  },
  {
   "cell_type": "markdown",
   "metadata": {},
   "source": [
    "Фикстура для приложения:\n",
    "    \n",
    "она уже написана за вас, называется ```qtbot``` (нужно загрузить pytest-qt через PyCharm)\n"
   ]
  },
  {
   "cell_type": "code",
   "execution_count": null,
   "metadata": {},
   "outputs": [],
   "source": [
    "from PyQt5 import QtCore\n",
    "from lib.window import ShopWindow\n",
    "\n",
    "\n",
    "def test_buttons_start(qtbot):\n",
    "    window = ShopWindow('..')\n",
    "    assert len(window.buttons) == len(window.data)\n",
    "\n",
    "    for i, button in enumerate(window.buttons):\n",
    "        assert 'Купить товар номер {}\\n доступно: {}'.format(i+1, window.data[i+1]) == button.text()\n",
    "\n",
    "    # кликаем по левой кнопке мвши (LeftButton)\n",
    "    qtbot.mouseClick(window.buttons[0], QtCore.Qt.LeftButton)\n",
    "    qtbot.mouseClick(window.buttons[0], QtCore.Qt.LeftButton)\n",
    "\n",
    "    for i, button in enumerate(window.buttons):\n",
    "        print(button.text())\n",
    "\n",
    "    assert 'Товар номер 1\\n доступно: {}'.format(window.data[1]) == window.buttons[0].text()\n"
   ]
  },
  {
   "cell_type": "markdown",
   "metadata": {},
   "source": [
    "Задание на семинар: (10+ баллов)\n",
    "    \n",
    "    - установить pytest, pytest-qt (1 балл)\n",
    "    - написать тест, который проверяет количество кнопок в окне и тексты этих кнопок (когда только открываем приложение) - 2 балла\n",
    "    - можно написать тест, который проверяет начальное состояние других элементов окна (блок текста) - 1 балл\n",
    "    - сконфигурировать в вашем окне загрузку данных не только из файла, но и из словаря ```ShopWindow(data_path=None, data=None)``` - 1 балл\n",
    "    - написать фикстуру, которая бы создавала конфигурационные данные для ваших кнопок - 2 балла\n",
    "    - написать тест (второй), который проверял бы что по нажатию по кнопкам, происходит ожидаемое действие \n",
    "    (состояние системы меняется) - 2 балла\n",
    "    - написать тест (третий), проверяющий, что когда товар заканчивается, действия над вашим окном остаются валидными \n",
    "    (у вас либо пропала кнопка, либо нажатие на нее не меняет состояние окна) - 2 балла\n",
    "    - написать тест на другие функциональности, если они есть (по баллу за тест)"
   ]
  },
  {
   "cell_type": "code",
   "execution_count": null,
   "metadata": {},
   "outputs": [],
   "source": []
  }
 ],
 "metadata": {
  "kernelspec": {
   "display_name": "Python 3",
   "language": "python",
   "name": "python3"
  },
  "language_info": {
   "codemirror_mode": {
    "name": "ipython",
    "version": 3
   },
   "file_extension": ".py",
   "mimetype": "text/x-python",
   "name": "python",
   "nbconvert_exporter": "python",
   "pygments_lexer": "ipython3",
   "version": "3.9.0"
  }
 },
 "nbformat": 4,
 "nbformat_minor": 2
}
