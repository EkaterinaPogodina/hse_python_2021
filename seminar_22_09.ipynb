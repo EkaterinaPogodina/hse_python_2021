{
 "cells": [
  {
   "cell_type": "markdown",
   "metadata": {},
   "source": [
    "## Семинар 22.09 - про функции и системы контроля версий"
   ]
  },
  {
   "cell_type": "markdown",
   "metadata": {},
   "source": [
    "Как вы уже могли заметить, функции помогают нам много раз запускать один и тот же код без излишнего копирования"
   ]
  },
  {
   "cell_type": "markdown",
   "metadata": {},
   "source": [
    "Кто из вас делал предыдущий семинар без использования функций?"
   ]
  },
  {
   "cell_type": "code",
   "execution_count": 10,
   "metadata": {},
   "outputs": [],
   "source": [
    "# Небольшое замечение: если во время написания программы, вам захотелось скопировать часть кода и вставить его ниже - \n",
    "# это отличный повод воспользоваться вспомогательной функцией!\n",
    "\n",
    "def your_function(argument):\n",
    "    print(argument)"
   ]
  },
  {
   "cell_type": "code",
   "execution_count": null,
   "metadata": {},
   "outputs": [],
   "source": [
    "data = your_function('smth to print')\n",
    "print(data) \n",
    "# что выведет программа?"
   ]
  },
  {
   "cell_type": "code",
   "execution_count": 71,
   "metadata": {},
   "outputs": [
    {
     "name": "stdout",
     "output_type": "stream",
     "text": [
      "test\n"
     ]
    },
    {
     "data": {
      "text/plain": [
       "(<function __main__.your_function(argument)>, None)"
      ]
     },
     "execution_count": 71,
     "metadata": {},
     "output_type": "execute_result"
    }
   ],
   "source": [
    "f1, f2 = your_function, your_function('test')\n",
    "f1, f2"
   ]
  },
  {
   "cell_type": "code",
   "execution_count": 73,
   "metadata": {},
   "outputs": [
    {
     "name": "stdout",
     "output_type": "stream",
     "text": [
      "first 1\n",
      "second 2\n"
     ]
    },
    {
     "data": {
      "text/plain": [
       "3"
      ]
     },
     "execution_count": 73,
     "metadata": {},
     "output_type": "execute_result"
    }
   ],
   "source": [
    "def my_sum(first, second):\n",
    "    print('first', first)\n",
    "    print('second', second)\n",
    "    sum_ = first + second\n",
    "    return sum_\n",
    "\n",
    "my_sum(1, 2)"
   ]
  },
  {
   "cell_type": "code",
   "execution_count": 74,
   "metadata": {},
   "outputs": [
    {
     "name": "stdout",
     "output_type": "stream",
     "text": [
      "first 5\n",
      "second 2\n"
     ]
    },
    {
     "data": {
      "text/plain": [
       "7"
      ]
     },
     "execution_count": 74,
     "metadata": {},
     "output_type": "execute_result"
    }
   ],
   "source": [
    "my_sum(second=2, first=5)"
   ]
  },
  {
   "cell_type": "code",
   "execution_count": 75,
   "metadata": {},
   "outputs": [
    {
     "name": "stdout",
     "output_type": "stream",
     "text": [
      "first 2\n",
      "second 5\n"
     ]
    },
    {
     "data": {
      "text/plain": [
       "7"
      ]
     },
     "execution_count": 75,
     "metadata": {},
     "output_type": "execute_result"
    }
   ],
   "source": [
    "my_sum(2, second=5)"
   ]
  },
  {
   "cell_type": "code",
   "execution_count": 76,
   "metadata": {},
   "outputs": [
    {
     "ename": "TypeError",
     "evalue": "my_sum() got multiple values for argument 'first'",
     "output_type": "error",
     "traceback": [
      "\u001b[0;31m---------------------------------------------------------------------------\u001b[0m",
      "\u001b[0;31mTypeError\u001b[0m                                 Traceback (most recent call last)",
      "\u001b[0;32m<ipython-input-76-0c98201411d5>\u001b[0m in \u001b[0;36m<module>\u001b[0;34m\u001b[0m\n\u001b[0;32m----> 1\u001b[0;31m \u001b[0mmy_sum\u001b[0m\u001b[0;34m(\u001b[0m\u001b[0;36m1\u001b[0m\u001b[0;34m,\u001b[0m \u001b[0mfirst\u001b[0m\u001b[0;34m=\u001b[0m\u001b[0;36m5\u001b[0m\u001b[0;34m)\u001b[0m\u001b[0;34m\u001b[0m\u001b[0;34m\u001b[0m\u001b[0m\n\u001b[0m",
      "\u001b[0;31mTypeError\u001b[0m: my_sum() got multiple values for argument 'first'"
     ]
    }
   ],
   "source": [
    "my_sum(1, first=5)"
   ]
  },
  {
   "cell_type": "code",
   "execution_count": 77,
   "metadata": {},
   "outputs": [
    {
     "ename": "SyntaxError",
     "evalue": "positional argument follows keyword argument (<ipython-input-77-3fb306c8fca2>, line 1)",
     "output_type": "error",
     "traceback": [
      "\u001b[0;36m  File \u001b[0;32m\"<ipython-input-77-3fb306c8fca2>\"\u001b[0;36m, line \u001b[0;32m1\u001b[0m\n\u001b[0;31m    my_sum(first=5, 2)\u001b[0m\n\u001b[0m                     ^\u001b[0m\n\u001b[0;31mSyntaxError\u001b[0m\u001b[0;31m:\u001b[0m positional argument follows keyword argument\n"
     ]
    }
   ],
   "source": [
    "my_sum(first=5, 2)"
   ]
  },
  {
   "cell_type": "code",
   "execution_count": 78,
   "metadata": {},
   "outputs": [],
   "source": [
    "# значения по умолчанию\n",
    "def my_sum(first=-1, second=0):\n",
    "    print('first', first)\n",
    "    print('second', second)\n",
    "    sum_ = first + second\n",
    "    return sum_"
   ]
  },
  {
   "cell_type": "code",
   "execution_count": 79,
   "metadata": {},
   "outputs": [
    {
     "name": "stdout",
     "output_type": "stream",
     "text": [
      "first -1\n",
      "second 0\n"
     ]
    },
    {
     "data": {
      "text/plain": [
       "-1"
      ]
     },
     "execution_count": 79,
     "metadata": {},
     "output_type": "execute_result"
    }
   ],
   "source": [
    "my_sum()"
   ]
  },
  {
   "cell_type": "code",
   "execution_count": 80,
   "metadata": {},
   "outputs": [
    {
     "name": "stdout",
     "output_type": "stream",
     "text": [
      "first -5\n",
      "second 0\n"
     ]
    },
    {
     "data": {
      "text/plain": [
       "-5"
      ]
     },
     "execution_count": 80,
     "metadata": {},
     "output_type": "execute_result"
    }
   ],
   "source": [
    "my_sum(-5)"
   ]
  },
  {
   "cell_type": "code",
   "execution_count": null,
   "metadata": {},
   "outputs": [],
   "source": [
    "my_sum(-5, -3)"
   ]
  },
  {
   "cell_type": "code",
   "execution_count": 81,
   "metadata": {},
   "outputs": [
    {
     "name": "stdout",
     "output_type": "stream",
     "text": [
      "first -1\n",
      "second -5\n"
     ]
    },
    {
     "data": {
      "text/plain": [
       "-6"
      ]
     },
     "execution_count": 81,
     "metadata": {},
     "output_type": "execute_result"
    }
   ],
   "source": [
    "my_sum(second=-5)"
   ]
  },
  {
   "cell_type": "code",
   "execution_count": 82,
   "metadata": {},
   "outputs": [
    {
     "name": "stdout",
     "output_type": "stream",
     "text": [
      "first -5\n",
      "second 0\n"
     ]
    },
    {
     "data": {
      "text/plain": [
       "-5"
      ]
     },
     "execution_count": 82,
     "metadata": {},
     "output_type": "execute_result"
    }
   ],
   "source": [
    "my_sum(first=-5)"
   ]
  },
  {
   "cell_type": "code",
   "execution_count": 87,
   "metadata": {},
   "outputs": [],
   "source": [
    "def my_sum(first, second, third=-7, *args):\n",
    "    print('first', first)\n",
    "    print('second', second)\n",
    "    print('third', third)\n",
    "    print('args', args)\n",
    "    return first + second + third + sum(args)"
   ]
  },
  {
   "cell_type": "code",
   "execution_count": 88,
   "metadata": {},
   "outputs": [
    {
     "data": {
      "text/plain": [
       "[2, 3]"
      ]
     },
     "execution_count": 88,
     "metadata": {},
     "output_type": "execute_result"
    }
   ],
   "source": [
    "a, *b, c = 1, 2, 3, 4\n",
    "b"
   ]
  },
  {
   "cell_type": "code",
   "execution_count": 89,
   "metadata": {},
   "outputs": [
    {
     "name": "stdout",
     "output_type": "stream",
     "text": [
      "first 1\n",
      "second 2\n",
      "third -7\n",
      "args ()\n"
     ]
    },
    {
     "data": {
      "text/plain": [
       "-4"
      ]
     },
     "execution_count": 89,
     "metadata": {},
     "output_type": "execute_result"
    }
   ],
   "source": [
    "my_sum(1, 2)"
   ]
  },
  {
   "cell_type": "code",
   "execution_count": 90,
   "metadata": {},
   "outputs": [
    {
     "name": "stdout",
     "output_type": "stream",
     "text": [
      "first 1\n",
      "second 2\n",
      "third 3\n",
      "args ()\n"
     ]
    },
    {
     "data": {
      "text/plain": [
       "6"
      ]
     },
     "execution_count": 90,
     "metadata": {},
     "output_type": "execute_result"
    }
   ],
   "source": [
    "my_sum(1, 2, 3)"
   ]
  },
  {
   "cell_type": "code",
   "execution_count": 91,
   "metadata": {},
   "outputs": [
    {
     "name": "stdout",
     "output_type": "stream",
     "text": [
      "first 1\n",
      "second 2\n",
      "third 3\n",
      "args (4, 5, 6)\n"
     ]
    },
    {
     "data": {
      "text/plain": [
       "21"
      ]
     },
     "execution_count": 91,
     "metadata": {},
     "output_type": "execute_result"
    }
   ],
   "source": [
    "my_sum(1, 2, 3, 4, 5, 6)"
   ]
  },
  {
   "cell_type": "code",
   "execution_count": 92,
   "metadata": {},
   "outputs": [],
   "source": [
    "def my_sum(first, second, *args, third=-7):\n",
    "    print('first', first)\n",
    "    print('second', second)\n",
    "    print('third', third)\n",
    "    print('args', args)\n",
    "    return first + second + third + sum(args)\n"
   ]
  },
  {
   "cell_type": "code",
   "execution_count": 93,
   "metadata": {},
   "outputs": [
    {
     "name": "stdout",
     "output_type": "stream",
     "text": [
      "first 1\n",
      "second 2\n",
      "third -7\n",
      "args (3, 4, 5, 6, 7, 8)\n"
     ]
    },
    {
     "data": {
      "text/plain": [
       "29"
      ]
     },
     "execution_count": 93,
     "metadata": {},
     "output_type": "execute_result"
    }
   ],
   "source": [
    "my_sum(1, 2, 3, 4, 5, 6, 7, 8)"
   ]
  },
  {
   "cell_type": "code",
   "execution_count": 42,
   "metadata": {},
   "outputs": [],
   "source": [
    "# как изменить third?"
   ]
  },
  {
   "cell_type": "code",
   "execution_count": 95,
   "metadata": {},
   "outputs": [],
   "source": [
    "def my_sum(first, second, *args, third=-7, **kwargs):\n",
    "    print('first', first)\n",
    "    print('second', second)\n",
    "    print('third', third)\n",
    "    print('args', args)\n",
    "    print('kwargs', kwargs)\n",
    "    return first + second + third + sum(args) + sum(kwargs.values())"
   ]
  },
  {
   "cell_type": "code",
   "execution_count": 96,
   "metadata": {},
   "outputs": [
    {
     "name": "stdout",
     "output_type": "stream",
     "text": [
      "first 1\n",
      "second 2\n",
      "third -7\n",
      "args ()\n",
      "kwargs {}\n"
     ]
    },
    {
     "data": {
      "text/plain": [
       "-4"
      ]
     },
     "execution_count": 96,
     "metadata": {},
     "output_type": "execute_result"
    }
   ],
   "source": [
    "my_sum(1, 2)"
   ]
  },
  {
   "cell_type": "code",
   "execution_count": 97,
   "metadata": {},
   "outputs": [
    {
     "name": "stdout",
     "output_type": "stream",
     "text": [
      "first 1\n",
      "second 2\n",
      "third 100\n",
      "args ()\n",
      "kwargs {}\n"
     ]
    },
    {
     "data": {
      "text/plain": [
       "103"
      ]
     },
     "execution_count": 97,
     "metadata": {},
     "output_type": "execute_result"
    }
   ],
   "source": [
    "my_sum(1, 2, third=100)"
   ]
  },
  {
   "cell_type": "code",
   "execution_count": 98,
   "metadata": {},
   "outputs": [
    {
     "name": "stdout",
     "output_type": "stream",
     "text": [
      "first 1\n",
      "second 2\n",
      "third -7\n",
      "args ()\n",
      "kwargs {'fourth': 100}\n"
     ]
    },
    {
     "data": {
      "text/plain": [
       "96"
      ]
     },
     "execution_count": 98,
     "metadata": {},
     "output_type": "execute_result"
    }
   ],
   "source": [
    "my_sum(1, 2, fourth=100)"
   ]
  },
  {
   "cell_type": "code",
   "execution_count": 99,
   "metadata": {},
   "outputs": [
    {
     "ename": "SyntaxError",
     "evalue": "invalid syntax (<ipython-input-99-e079257a0fc2>, line 1)",
     "output_type": "error",
     "traceback": [
      "\u001b[0;36m  File \u001b[0;32m\"<ipython-input-99-e079257a0fc2>\"\u001b[0;36m, line \u001b[0;32m1\u001b[0m\n\u001b[0;31m    def my_sum(first, second, *args, **kwargs, third=-7):\u001b[0m\n\u001b[0m                                               ^\u001b[0m\n\u001b[0;31mSyntaxError\u001b[0m\u001b[0;31m:\u001b[0m invalid syntax\n"
     ]
    }
   ],
   "source": [
    "def my_sum(first, second, *args, **kwargs, third=-7):\n",
    "    print('first', first)\n",
    "    print('second', second)\n",
    "    print('third', third)\n",
    "    print('args', args)\n",
    "    print('kwargs', kwargs)\n",
    "    return first + second + third + sum(args) + sum(kwargs.values())"
   ]
  },
  {
   "cell_type": "markdown",
   "metadata": {},
   "source": [
    "### Декораторы"
   ]
  },
  {
   "cell_type": "code",
   "execution_count": 54,
   "metadata": {},
   "outputs": [
    {
     "data": {
      "text/plain": [
       "6"
      ]
     },
     "execution_count": 54,
     "metadata": {},
     "output_type": "execute_result"
    }
   ],
   "source": [
    "def my_sum(*args):\n",
    "    return sum(args)\n",
    "\n",
    "my_sum(1, 2, 3)"
   ]
  },
  {
   "cell_type": "code",
   "execution_count": 102,
   "metadata": {},
   "outputs": [
    {
     "name": "stdout",
     "output_type": "stream",
     "text": [
      "args (1, 2, 3)\n",
      "6\n"
     ]
    }
   ],
   "source": [
    "def print_function(f):\n",
    "    def function_wrapper(*args):\n",
    "        print('args', args)\n",
    "        return f(*args)\n",
    "    \n",
    "    return function_wrapper\n",
    "\n",
    "\n",
    "@print_function\n",
    "def my_sum(*args):\n",
    "    return sum(args)\n",
    "\n",
    "data = my_sum(1, 2, 3)\n",
    "print(data)"
   ]
  },
  {
   "cell_type": "code",
   "execution_count": 101,
   "metadata": {},
   "outputs": [
    {
     "name": "stdout",
     "output_type": "stream",
     "text": [
      "first 1\n",
      "second 2\n",
      "third -7\n",
      "args (3,)\n",
      "kwargs {}\n"
     ]
    },
    {
     "data": {
      "text/plain": [
       "<function __main__.print_function.<locals>.function_wrapper(*args)>"
      ]
     },
     "execution_count": 101,
     "metadata": {},
     "output_type": "execute_result"
    }
   ],
   "source": [
    "# print_function(my_sum(1, 2, 3))"
   ]
  },
  {
   "cell_type": "markdown",
   "metadata": {},
   "source": [
    "### Системы контроля версий"
   ]
  },
  {
   "cell_type": "code",
   "execution_count": 66,
   "metadata": {},
   "outputs": [],
   "source": [
    "# Контроль версий, также известный как управление исходным кодом, — это практика отслеживания изменений программного кода и управления ими. \n",
    "# Системы контроля версий — это программные инструменты, помогающие командам разработчиков управлять изменениями в исходном коде с течением времени. "
   ]
  },
  {
   "cell_type": "code",
   "execution_count": 67,
   "metadata": {},
   "outputs": [],
   "source": [
    "##Пример  https://github.com/catboost/catboost"
   ]
  },
  {
   "cell_type": "markdown",
   "metadata": {},
   "source": [
    "Существует большое множество платформ для контроля версий:\n",
    "    \n",
    "    - github\n",
    "    - gitlab\n",
    "    - bitbucket\n",
    "    - svn\n",
    "    - и другие"
   ]
  },
  {
   "cell_type": "markdown",
   "metadata": {},
   "source": [
    "Что они позволяют:\n",
    "    - Полная история изменений каждого файла за длительный период с подробной информацией\n",
    "    - Откат изменений файла\n",
    "    - Работа нескольких человек над одним проектом, не мешая друг другу\n",
    "    - Работа нескольких человек над одним кодом/ файлом одновременно - есть специальный функционал для разрешения конфликтов"
   ]
  },
  {
   "cell_type": "code",
   "execution_count": null,
   "metadata": {},
   "outputs": [],
   "source": [
    "# Как пользоваться git не через pycharm https://githowto.com/ru"
   ]
  },
  {
   "cell_type": "markdown",
   "metadata": {},
   "source": [
    "# Задание номер 0 - знакомство с github (1 балл)\n",
    "1) Зарегистрироваться на https://github.com\n",
    "\n",
    "2) Сгенерировать token https://github.com/settings/tokens (поставить все галки) - скопируйте этот токен себе в телеграм или блокнот!\n",
    "\n",
    "3) Сделать fork репозитория https://github.com/EkaterinaPogodina/hse_python_2021 (правый верхний угол)\n"
   ]
  },
  {
   "cell_type": "markdown",
   "metadata": {},
   "source": [
    "### Вы должны находиться в ветке, которая называется master - это копия моего репозитория, сохраненная у вас на компьютере"
   ]
  },
  {
   "cell_type": "markdown",
   "metadata": {},
   "source": [
    "## Задание номер 1 - внести изменения в существующий проект через pull request (3 балла)"
   ]
  },
  {
   "cell_type": "markdown",
   "metadata": {},
   "source": [
    "именно так создаются запросы на добавления функционала в open_source проекты"
   ]
  },
  {
   "cell_type": "markdown",
   "metadata": {},
   "source": [
    "1) Найти в своем профиле список репозиториев (должна быть ссылка вида https://github.com/your_login/hse_python_2021) - это ваша ответвленная версия моего репозитория\n",
    "\n",
    "2) Открыть pycharm, выбрать VCS -> Checkout From Version Control, введите вашу ссылку из пункта выше (не мою)\n",
    "\n",
    "3) создать файл в формате firstname_lastname.py, в котором будет метод, решающий задачу (https://docs.google.com/spreadsheets/d/1-Y_b_iPFIByGMyjYX4dTW8C1ZmmQJqbWGl6Ia_5KtRA/edit#gid=642515049, задача 1), написать этот метод\n",
    "\n",
    "(в этом задании учимся читать на английском)\n",
    "\n",
    "4) далее нужно \"запушить ваше изменение\" в ваш удаленный (на сервере github.com) репозиторий:\n",
    "- нужно добавить сам файл (VCS -> Git -> add) в систему git\n",
    "- закоммитить (составляете специальный пакет из набора изменений проекта и сообщение к нему, правилом хорошего тона считается делать один коммит на один логический блок) это изменение (VCS -> Commit), написать комментарий\n",
    "- запушить изменение на сервер (VCS -> Git -> Push)\n",
    "\n",
    "5) убедиться что вы видите свой файлик у себя https://github.com/your_login/hse_python_2021\n",
    "\n",
    "6) создать pull request: Contribute -> Open Pull Request (дождаться моих комментариев по задаче)"
   ]
  },
  {
   "cell_type": "markdown",
   "metadata": {},
   "source": [
    "## Задание номер 2 - совместная работа в проекте (6 баллов)"
   ]
  },
  {
   "cell_type": "markdown",
   "metadata": {},
   "source": [
    "1) После того, как я увижу ваш пул реквест в предыдущем задании, я скину вам ссылку на приглашение на свовместную работу в репозитории\n",
    "https://github.com/EkaterinaPogodina/team_work_2021/\n",
    "\n",
    "2) вам нужно поддтвердить приглашение в репозиторий\n",
    "\n",
    "3) склонировать его\n",
    "\n",
    "4) создать новую ветку (VCS -> Git -> Branches)\n",
    "\n",
    "5) написать решение задачи из таблицы (https://docs.google.com/spreadsheets/d/1-Y_b_iPFIByGMyjYX4dTW8C1ZmmQJqbWGl6Ia_5KtRA/edit#gid=642515049 задача 2) в отдельном файле в формате firstname_lastname.py\n",
    "\n",
    "6) сделать add, commit, push как в предыдущем задании\n",
    "\n",
    "7) создать pull request из вашей ветки в ветку master на github.com (Compare & pull request -> Create pull request)\n",
    "\n",
    "8) Найти в таблице своего \"напарника\", вам нужно найти его pull_request и написать \"замечания\" к его коду, \n",
    "после того как замечания будут поправлены, можно смело подтверждать его код\n",
    "\n",
    "https://github.com/EkaterinaPogodina/team_work_2021/pulls\n",
    "нужно обязательно написать хотя бы один комментарий к pull request-у! Чтобы посмотреть как это выглядит и поближе познакомиться с интерфейсом)\n",
    "\n",
    "9*) В свою очередь ваш напарник может попросить исправить что-то в вашем коде (для вас это повторение пунктов 5-6)\n",
    "\n",
    "Замечания к коду стоит делать по логической части работы программы и по тем же правилам code style как в семинаре 10_09 https://github.com/EkaterinaPogodina/hse_python_2021/blob/master/seminar_10_09.ipynb"
   ]
  },
  {
   "cell_type": "code",
   "execution_count": 35,
   "metadata": {},
   "outputs": [],
   "source": [
    "Задачи на ревью: <>"
   ]
  },
  {
   "cell_type": "code",
   "execution_count": null,
   "metadata": {},
   "outputs": [],
   "source": []
  }
 ],
 "metadata": {
  "kernelspec": {
   "display_name": "Python 3",
   "language": "python",
   "name": "python3"
  },
  "language_info": {
   "codemirror_mode": {
    "name": "ipython",
    "version": 3
   },
   "file_extension": ".py",
   "mimetype": "text/x-python",
   "name": "python",
   "nbconvert_exporter": "python",
   "pygments_lexer": "ipython3",
   "version": "3.9.0"
  }
 },
 "nbformat": 4,
 "nbformat_minor": 2
}
