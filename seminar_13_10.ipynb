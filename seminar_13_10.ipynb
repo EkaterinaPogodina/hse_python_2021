{
 "cells": [
  {
   "cell_type": "markdown",
   "metadata": {},
   "source": [
    "## Семинар 13.10 - пишем телеграм бота"
   ]
  },
  {
   "cell_type": "markdown",
   "metadata": {},
   "source": [
    "Орг инфо:\n",
    "    - проект из 3 частей выкладываем на гитхаб и добавляем меня в колабораторы \n",
    "    - свои  cv выкладываем сюда https://classroom.google.com/c/Mzk3NTgwMjAzOTUx/a/NDA3MzYwNzAyNzI2/details"
   ]
  },
  {
   "cell_type": "markdown",
   "metadata": {},
   "source": [
    "Семнар 15.10 - будем готовиться к экзамену - скидывайте задачи/ темы, которые надо будет объяснить или отдыхвайте и делайте домашки"
   ]
  },
  {
   "cell_type": "markdown",
   "metadata": {},
   "source": [
    "Экзамен: будет 6 задач (скорее всего, ориентировочная разбалловка по кол-ву решенных: 0, 3, 5, 6, 8, 9, 10)"
   ]
  },
  {
   "cell_type": "markdown",
   "metadata": {},
   "source": [
    "Создаем своего бота:\n",
    "    - находим @BotFather \n",
    "    - вбиваем команду /newbot\n",
    "    - вводим название бота\n",
    "    - придумываем логин для бота\n",
    "    - сохраняем токен (2065946933:AAGV8cf-upDUaI6NyLwMmvFWxnay...), ваша ссылка на бота  t.me/online_shop_oimp_bot"
   ]
  },
  {
   "cell_type": "code",
   "execution_count": 12,
   "metadata": {},
   "outputs": [
    {
     "name": "stdout",
     "output_type": "stream",
     "text": [
      "Collecting pytelegrambotapi\n",
      "  Downloading pyTelegramBotAPI-4.1.0.tar.gz (101 kB)\n",
      "\u001b[K     |████████████████████████████████| 101 kB 1.4 MB/s \n",
      "\u001b[?25hRequirement already satisfied, skipping upgrade: requests in /usr/local/lib/python3.9/site-packages (from pytelegrambotapi) (2.25.0)\n",
      "Requirement already satisfied, skipping upgrade: urllib3<1.27,>=1.21.1 in /usr/local/lib/python3.9/site-packages (from requests->pytelegrambotapi) (1.26.2)\n",
      "Requirement already satisfied, skipping upgrade: certifi>=2017.4.17 in /usr/local/lib/python3.9/site-packages (from requests->pytelegrambotapi) (2020.11.8)\n",
      "Requirement already satisfied, skipping upgrade: idna<3,>=2.5 in /usr/local/lib/python3.9/site-packages (from requests->pytelegrambotapi) (2.10)\n",
      "Requirement already satisfied, skipping upgrade: chardet<4,>=3.0.2 in /usr/local/lib/python3.9/site-packages (from requests->pytelegrambotapi) (3.0.4)\n",
      "Building wheels for collected packages: pytelegrambotapi\n",
      "  Building wheel for pytelegrambotapi (setup.py) ... \u001b[?25ldone\n",
      "\u001b[?25h  Created wheel for pytelegrambotapi: filename=pyTelegramBotAPI-4.1.0-py3-none-any.whl size=79704 sha256=970af5d16a4dd8e3a3cf544c3719abecde228e9867bddd0d811d173670ab2d69\n",
      "  Stored in directory: /Users/pogodina-eval/Library/Caches/pip/wheels/1a/97/21/a1abda04ec447689a351340831023390898fa317ec8d14247a\n",
      "Successfully built pytelegrambotapi\n",
      "Installing collected packages: pytelegrambotapi\n",
      "  Attempting uninstall: pytelegrambotapi\n",
      "    Found existing installation: pyTelegramBotAPI 2.2.3\n",
      "    Uninstalling pyTelegramBotAPI-2.2.3:\n",
      "      Successfully uninstalled pyTelegramBotAPI-2.2.3\n",
      "Successfully installed pytelegrambotapi-4.1.0\n"
     ]
    }
   ],
   "source": [
    "!pip3 install pytelegrambotapi --upgrade"
   ]
  },
  {
   "cell_type": "code",
   "execution_count": 11,
   "metadata": {},
   "outputs": [
    {
     "name": "stdout",
     "output_type": "stream",
     "text": [
      "Found existing installation: telebot 0.0.4\n",
      "Uninstalling telebot-0.0.4:\n",
      "  Successfully uninstalled telebot-0.0.4\n"
     ]
    }
   ],
   "source": [
    "# !pip3 uninstall telebot -y"
   ]
  },
  {
   "cell_type": "code",
   "execution_count": 1,
   "metadata": {},
   "outputs": [],
   "source": [
    "import telebot\n",
    "#Сюда подставляете свой токен\n",
    "bot = telebot.TeleBot('2065946933...')"
   ]
  },
  {
   "cell_type": "code",
   "execution_count": 3,
   "metadata": {},
   "outputs": [],
   "source": [
    "@bot.message_handler(commands=['start', 'help'])\n",
    "def start_message(message):\n",
    "    bot.send_message(message.chat.id, \"Тестовое сообщение\")\n",
    "    \n",
    "@bot.message_handler(content_types=['text'])\n",
    "def send_text(message):\n",
    "    if message.text.lower() == 'забронировать товар 1':\n",
    "        bot.send_message(message.chat.id, 'Товар 1 забронирован')\n",
    "    else:\n",
    "        bot.send_message(message.chat.id, 'Прости, я тебя не понял')\n",
    "    \n",
    "bot.polling()"
   ]
  },
  {
   "cell_type": "code",
   "execution_count": null,
   "metadata": {},
   "outputs": [],
   "source": []
  }
 ],
 "metadata": {
  "kernelspec": {
   "display_name": "Python 3",
   "language": "python",
   "name": "python3"
  },
  "language_info": {
   "codemirror_mode": {
    "name": "ipython",
    "version": 3
   },
   "file_extension": ".py",
   "mimetype": "text/x-python",
   "name": "python",
   "nbconvert_exporter": "python",
   "pygments_lexer": "ipython3",
   "version": "3.9.0"
  }
 },
 "nbformat": 4,
 "nbformat_minor": 2
}
